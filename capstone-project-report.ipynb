{
    "cells": [
        {
            "cell_type": "markdown",
            "metadata": {
                "collapsed": true
            },
            "source": "# Capstone Project Report"
        },
        {
            "cell_type": "markdown",
            "metadata": {},
            "source": "## Part 1: Business Problem"
        },
        {
            "cell_type": "markdown",
            "metadata": {},
            "source": "A businessman wants to open a new Asian restaurant in New York city so he needs an advice for the location. He doesn't want to be in a high competitive location with other restaurants nearby because he just has enough capital to open a small restaurant. By the way, he requires 2 main points: \n\n1. No other Asian restaurant within 1 km radius. \n2. The restaurant's density is not too crowded (it means no more 50 restaurants within a 500 meter radius).\n\nMy job as a data scientist will help him to pick the best location that is suitable for his needs."
        },
        {
            "cell_type": "markdown",
            "metadata": {},
            "source": "## Part 2: Data Understanding"
        },
        {
            "cell_type": "markdown",
            "metadata": {},
            "source": "I will use Foursquare data to understand more about restaurant market in New York city, some data I need is:\n\n1. location: to pick where a venue is (lat,long)\n2. categories: category of the venue (coffeeshop, restaurant, Asian restaurant, etc.)\n3. stats: the number of checkins, total users and total visits to know the popularity of a venue.\n4. price: to know the price tier of a venue.\n\nWith the data I get from Foursquare I will clean it first, then:\n\n- I will find the most popular Asian restaurants in New York city based on stats.\n- Find the pattern of those Asian restaurants based on the venues nearby (within 500 meter radius).\n- Use the pattern to find the new location list that doen't have any Asian restaurant within 1 km radius.\n- Check if the location has less than 50 restaurants within a 500 meter radius.\n- Calculate the price tier of each restaurant in the short list above.\n\nFinally, I will have the short list of suggested locations for him to call to check the leasing price so that he can build a projected financial plan based on the price tier and the leasing price.  "
        },
        {
            "cell_type": "code",
            "execution_count": null,
            "metadata": {},
            "outputs": [],
            "source": ""
        }
    ],
    "metadata": {
        "kernelspec": {
            "display_name": "Python 3.6",
            "language": "python",
            "name": "python3"
        },
        "language_info": {
            "codemirror_mode": {
                "name": "ipython",
                "version": 3
            },
            "file_extension": ".py",
            "mimetype": "text/x-python",
            "name": "python",
            "nbconvert_exporter": "python",
            "pygments_lexer": "ipython3",
            "version": "3.6.9"
        }
    },
    "nbformat": 4,
    "nbformat_minor": 1
}